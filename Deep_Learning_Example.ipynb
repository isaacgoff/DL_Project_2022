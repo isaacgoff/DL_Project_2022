{
  "nbformat": 4,
  "nbformat_minor": 0,
  "metadata": {
    "colab": {
      "name": "Deep_Learning_Example.ipynb",
      "provenance": [],
      "authorship_tag": "ABX9TyMqr/LMBd5e8QplLUc9WBhj",
      "include_colab_link": true
    },
    "kernelspec": {
      "name": "python3",
      "display_name": "Python 3"
    },
    "language_info": {
      "name": "python"
    }
  },
  "cells": [
    {
      "cell_type": "markdown",
      "metadata": {
        "id": "view-in-github",
        "colab_type": "text"
      },
      "source": [
        "<a href=\"https://colab.research.google.com/github/isaacgoff/DL_Project_2022/blob/master/Deep_Learning_Example.ipynb\" target=\"_parent\"><img src=\"https://colab.research.google.com/assets/colab-badge.svg\" alt=\"Open In Colab\"/></a>"
      ]
    },
    {
      "cell_type": "code",
      "execution_count": null,
      "metadata": {
        "id": "U_BV_GMEuNXY"
      },
      "outputs": [],
      "source": [
        "# Clone GitHub Repo\n",
        "!git clone https://TOKEN@github.com/isaacgoff/DL_Project_2022 # Insert appropriate token\n",
        "!git config --global user.email \"isgo7205@colorado.edu\" # Insert apprpriate email\n",
        "!git config --global user.name \"isaacgoff\" # Insert appropriate username\n",
        "%cd DL_Project_2022/\n",
        "\n",
        "# Mount Google Drive (Must allow access manually when prompted)\n",
        "from google.colab import drive\n",
        "drive.mount('/content/drive')"
      ]
    },
    {
      "cell_type": "code",
      "source": [
        "# Use if modifications have been made to code in the repository since session started\n",
        "!git pull"
      ],
      "metadata": {
        "id": "xp3K7MnOk8Ek"
      },
      "execution_count": null,
      "outputs": []
    },
    {
      "cell_type": "code",
      "source": [
        "# Run training code (Add command line arguments as needed)\n",
        "!python3 train_model.py --train_folder='small_audio/'"
      ],
      "metadata": {
        "id": "S0dL253bjMj3"
      },
      "execution_count": null,
      "outputs": []
    }
  ]
}