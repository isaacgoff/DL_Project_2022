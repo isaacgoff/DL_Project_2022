{
  "nbformat": 4,
  "nbformat_minor": 0,
  "metadata": {
    "colab": {
      "name": "Native Colab.ipynb",
      "provenance": [],
      "authorship_tag": "ABX9TyOv5W4zJm8jopj3TJDZczLf",
      "include_colab_link": true
    },
    "kernelspec": {
      "name": "python3",
      "display_name": "Python 3"
    },
    "language_info": {
      "name": "python"
    },
    "accelerator": "GPU"
  },
  "cells": [
    {
      "cell_type": "markdown",
      "metadata": {
        "id": "view-in-github",
        "colab_type": "text"
      },
      "source": [
        "<a href=\"https://colab.research.google.com/github/isaacgoff/DL_Project_2022/blob/master/Best_Training_Ever.ipynb\" target=\"_parent\"><img src=\"https://colab.research.google.com/assets/colab-badge.svg\" alt=\"Open In Colab\"/></a>"
      ]
    },
    {
      "cell_type": "code",
      "execution_count": null,
      "metadata": {
        "id": "N4utoTq4LlYs"
      },
      "outputs": [],
      "source": [
        "# Clone GitHub Repo\n",
        "!git clone https://TOKEN@github.com/isaacgoff/DL_Project_2022 # Insert appropriate token\n",
        "!git config --global user.email \"isgo7205@colorado.edu\" # Insert appropriate email\n",
        "!git config --global user.name \"isaacgoff\" # Insert appropriate username\n",
        "%cd DL_Project_2022/\n",
        "\n",
        "# Mount Google Drive (Must allow access manually when prompted)\n",
        "from google.colab import drive\n",
        "drive.mount('/content/drive')"
      ]
    },
    {
      "cell_type": "code",
      "source": [
        "# Unzip desired dataset (Or multiple datasets if needed in current session)\n",
        "# Training dataset\n",
        "!unzip /content/drive/MyDrive/DL_data/nsynth-train/small_audio.zip -d /content/ > /dev/null\n",
        "# !unzip /content/drive/MyDrive/DL_data/nsynth-train/medium_audio.zip -d /content/ > /dev/null\n",
        "# !unzip /content/drive/MyDrive/DL_data/nsynth-train/large_audio.zip -d /content/ > /dev/null\n",
        "# !unzip /content/drive/MyDrive/DL_data/nsynth-train/audio.zip -d /content/ > /dev/null"
      ],
      "metadata": {
        "id": "Nb3vSS5oLtpG"
      },
      "execution_count": 2,
      "outputs": []
    },
    {
      "cell_type": "code",
      "source": [
        "!python3 train_model.py --model='Res_Net_18' --train_folder='small_audio/' --num_epochs=200"
      ],
      "metadata": {
        "id": "sFO8rJ5XLtUV"
      },
      "execution_count": null,
      "outputs": []
    },
    {
      "cell_type": "code",
      "source": [
        "%run test_model.py --model_type='' --model_name=''"
      ],
      "metadata": {
        "id": "j-iADbfuLtMv"
      },
      "execution_count": null,
      "outputs": []
    }
  ]
}