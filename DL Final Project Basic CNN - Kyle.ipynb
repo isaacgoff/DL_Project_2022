{
 "cells": [
  {
   "cell_type": "code",
   "execution_count": 4,
   "id": "4fec88be",
   "metadata": {},
   "outputs": [],
   "source": [
    "import torch\n",
    "from torch import nn"
   ]
  },
  {
   "cell_type": "code",
   "execution_count": 5,
   "id": "feeadddc",
   "metadata": {},
   "outputs": [],
   "source": [
    "#define network\n",
    "net = nn.Sequential(                                                     #Dimension starts with 1 of 128 x 128\n",
    "    #larger kernel CNN layers\n",
    "    nn.Conv2d(1, 6, kernel_size = 5, padding = 2), nn.ReLU(),            #Dimension becomes 6 of 128 x 128\n",
    "    nn.AvgPool2d(kernel_size = 2, stride =2),                            #Dimension now 6 of 64 x 64\n",
    "    nn.Conv2d(6, 16, kernel_size=5, padding = 2), nn.ReLU(),             #Dimension now 16 of 64 x 64                                                                    #Dimension now 16 of\n",
    "    nn.AvgPool2d(kernel_size=2, stride=2),                               #Dimension now 16 of 32 x 32\n",
    "    #smaller kernel CNN layers\n",
    "    nn.Conv2d(16, 24, kernel_size=3, padding = 1), nn.ReLU(),            #Dimension now 24 of 32 x 32                                                                     #Dimension now 16 of\n",
    "    nn.AvgPool2d(kernel_size=2, stride=2),                               #Dimension now 24 of 16 x 16\n",
    "    nn.Conv2d(24, 30, kernel_size=3, padding = 1), nn.ReLU(),            #Dimension now 30 of 16 x 16                                                                     #Dimension now 16 of\n",
    "    nn.AvgPool2d(kernel_size=2, stride=2),                               #Dimension now 30 of 8  x 8\n",
    "    #fully connected layers\n",
    "    nn.Flatten(),\n",
    "    nn.Linear(30 * 8 * 8, 200), nn.ReLU(),\n",
    "    nn.Linear(200, 100), nn.ReLU(),\n",
    "    nn.Linear(100, 11)\n",
    "    \n",
    ")"
   ]
  },
  {
   "cell_type": "code",
   "execution_count": null,
   "id": "ecd17922",
   "metadata": {},
   "outputs": [],
   "source": []
  }
 ],
 "metadata": {
  "kernelspec": {
   "display_name": "Python 3 (ipykernel)",
   "language": "python",
   "name": "python3"
  },
  "language_info": {
   "codemirror_mode": {
    "name": "ipython",
    "version": 3
   },
   "file_extension": ".py",
   "mimetype": "text/x-python",
   "name": "python",
   "nbconvert_exporter": "python",
   "pygments_lexer": "ipython3",
   "version": "3.9.5"
  }
 },
 "nbformat": 4,
 "nbformat_minor": 5
}
